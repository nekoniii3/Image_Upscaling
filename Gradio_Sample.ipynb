{
  "nbformat": 4,
  "nbformat_minor": 0,
  "metadata": {
    "colab": {
      "provenance": [],
      "authorship_tag": "ABX9TyO8/LVOojHLcm5Q/DpJ4OF1",
      "include_colab_link": true
    },
    "kernelspec": {
      "name": "python3",
      "display_name": "Python 3"
    },
    "language_info": {
      "name": "python"
    }
  },
  "cells": [
    {
      "cell_type": "markdown",
      "metadata": {
        "id": "view-in-github",
        "colab_type": "text"
      },
      "source": [
        "<a href=\"https://colab.research.google.com/github/nekoniii3/Image_Upscaling/blob/main/Gradio_Sample.ipynb\" target=\"_parent\"><img src=\"https://colab.research.google.com/assets/colab-badge.svg\" alt=\"Open In Colab\"/></a>"
      ]
    },
    {
      "cell_type": "code",
      "execution_count": null,
      "metadata": {
        "id": "QBBXnChUV0B8"
      },
      "outputs": [],
      "source": [
        "# Gradioパッケージのインストール\n",
        "!pip install gradio"
      ]
    },
    {
      "cell_type": "code",
      "source": [
        "import gradio as gr\n",
        "\n",
        "# ラップする関数\n",
        "def upletter(letter):\n",
        "    big_letter = letter.upper()\n",
        "    return big_letter\n",
        "\n",
        "# 関数と入出力を引数にする\n",
        "demo = gr.Interface(\n",
        "    fn=upletter, \n",
        "    inputs=\"text\", \n",
        "    outputs=\"text\"\n",
        ")\n",
        "\n",
        "# 起動\n",
        "demo.launch()"
      ],
      "metadata": {
        "id": "tOFTQx8xWpoG"
      },
      "execution_count": null,
      "outputs": []
    }
  ]
}