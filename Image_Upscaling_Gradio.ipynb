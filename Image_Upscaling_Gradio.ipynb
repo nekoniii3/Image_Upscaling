{
  "nbformat": 4,
  "nbformat_minor": 0,
  "metadata": {
    "colab": {
      "provenance": [],
      "include_colab_link": true
    },
    "kernelspec": {
      "name": "python3",
      "display_name": "Python 3"
    },
    "language_info": {
      "name": "python"
    }
  },
  "cells": [
    {
      "cell_type": "markdown",
      "metadata": {
        "id": "view-in-github",
        "colab_type": "text"
      },
      "source": [
        "<a href=\"https://colab.research.google.com/github/nekoniii3/Image_Upscaling/blob/main/Image_Upscaling_Gradio.ipynb\" target=\"_parent\"><img src=\"https://colab.research.google.com/assets/colab-badge.svg\" alt=\"Open In Colab\"/></a>"
      ]
    },
    {
      "cell_type": "code",
      "execution_count": null,
      "metadata": {
        "id": "ByDZS0B1ZbUL"
      },
      "outputs": [],
      "source": [
        "# パッケージのインストール\n",
        "!pip install gradio\n",
        "!pip install stability-sdk"
      ]
    },
    {
      "cell_type": "code",
      "source": [
        "import io\n",
        "import os\n",
        "import warnings\n",
        "import gradio as gr\n",
        "\n",
        "from IPython.display import display\n",
        "from PIL import Image\n",
        "from stability_sdk import client\n",
        "import stability_sdk.interfaces.gooseai.generation.generation_pb2 as generation\n",
        "\n",
        "# ラップする関数\n",
        "def upscale(img, key, engine):\n",
        "\n",
        "  # Set up our connection to the API.\n",
        "  stability_api = client.StabilityInference(\n",
        "      key=key, # API Key reference.\n",
        "      upscale_engine=engine,\n",
        "      verbose=True # Print debug messages.\n",
        "  )\n",
        "\n",
        "  answers = stability_api.upscale(\n",
        "      init_image=img\n",
        "  )\n",
        "\n",
        "  for resp in answers:\n",
        "      for artifact in resp.artifacts:\n",
        "          if artifact.finish_reason == generation.FILTER:\n",
        "              warnings.warn(\n",
        "                  \"Your request activated the API's safety filters and could not be processed.\"\n",
        "                  \"Please submit a different image and try again.\")\n",
        "          if artifact.type == generation.ARTIFACT_IMAGE:\n",
        "              big_img = Image.open(io.BytesIO(artifact.binary))\n",
        "\n",
        "  return big_img\n",
        "\n",
        "# 入出力定義\n",
        "demo = gr.Interface(\n",
        "    fn=upscale, \n",
        "    inputs=[gr.Image(type=\"pil\")\n",
        "    , gr.Textbox(type='password' , placeholder=\"stability key here...\")\n",
        "    , gr.Dropdown(  [\"esrgan-v1-x2plus\", \"stable-diffusion-x4-latent-upscaler\"], value=\"esrgan-v1-x2plus\", label=\"engine\")\n",
        "    ],\n",
        "    outputs=\"image\"\n",
        "    , allow_flagging='never'\n",
        ")\n",
        "\n",
        "# 起動\n",
        "demo.launch()"
      ],
      "metadata": {
        "id": "B_JVMfkuh42t"
      },
      "execution_count": null,
      "outputs": []
    }
  ]
}